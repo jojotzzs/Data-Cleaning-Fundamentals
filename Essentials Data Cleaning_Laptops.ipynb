{
 "cells": [
  {
   "cell_type": "markdown",
   "id": "0e1e0b0e-42f4-495e-94f3-caf244ee1b73",
   "metadata": {},
   "source": [
    "## Essentials Data Cleaning\n",
    "##### Goal: To clean irrelevant information from the dataset.\n",
    "##### Dataset: Laptop/CPU product information for retail trade."
   ]
  },
  {
   "cell_type": "code",
   "execution_count": 255,
   "id": "a950ff8d-7706-4ac1-8af7-8523550e3e82",
   "metadata": {},
   "outputs": [],
   "source": [
    "# import packages\n",
    "import pandas as pd"
   ]
  },
  {
   "cell_type": "code",
   "execution_count": 256,
   "id": "9690596c-da87-4536-8af1-029a7dace357",
   "metadata": {},
   "outputs": [
    {
     "data": {
      "text/html": [
       "<div>\n",
       "<style scoped>\n",
       "    .dataframe tbody tr th:only-of-type {\n",
       "        vertical-align: middle;\n",
       "    }\n",
       "\n",
       "    .dataframe tbody tr th {\n",
       "        vertical-align: top;\n",
       "    }\n",
       "\n",
       "    .dataframe thead th {\n",
       "        text-align: right;\n",
       "    }\n",
       "</style>\n",
       "<table border=\"1\" class=\"dataframe\">\n",
       "  <thead>\n",
       "    <tr style=\"text-align: right;\">\n",
       "      <th></th>\n",
       "      <th>Unnamed: 0</th>\n",
       "      <th>Company</th>\n",
       "      <th>TypeName</th>\n",
       "      <th>Inches</th>\n",
       "      <th>ScreenResolution</th>\n",
       "      <th>Cpu</th>\n",
       "      <th>Ram</th>\n",
       "      <th>Memory</th>\n",
       "      <th>Gpu</th>\n",
       "      <th>OpSys</th>\n",
       "      <th>Weight</th>\n",
       "      <th>Price</th>\n",
       "    </tr>\n",
       "  </thead>\n",
       "  <tbody>\n",
       "    <tr>\n",
       "      <th>0</th>\n",
       "      <td>0.0</td>\n",
       "      <td>Apple</td>\n",
       "      <td>Ultrabook</td>\n",
       "      <td>13.3</td>\n",
       "      <td>IPS Panel Retina Display 2560x1600</td>\n",
       "      <td>Intel Core i5 2.3GHz</td>\n",
       "      <td>8GB</td>\n",
       "      <td>128GB SSD</td>\n",
       "      <td>Intel Iris Plus Graphics 640</td>\n",
       "      <td>macOS</td>\n",
       "      <td>1.37kg</td>\n",
       "      <td>71378.6832</td>\n",
       "    </tr>\n",
       "    <tr>\n",
       "      <th>1</th>\n",
       "      <td>1.0</td>\n",
       "      <td>Apple</td>\n",
       "      <td>Ultrabook</td>\n",
       "      <td>13.3</td>\n",
       "      <td>1440x900</td>\n",
       "      <td>Intel Core i5 1.8GHz</td>\n",
       "      <td>8GB</td>\n",
       "      <td>128GB Flash Storage</td>\n",
       "      <td>Intel HD Graphics 6000</td>\n",
       "      <td>macOS</td>\n",
       "      <td>1.34kg</td>\n",
       "      <td>47895.5232</td>\n",
       "    </tr>\n",
       "  </tbody>\n",
       "</table>\n",
       "</div>"
      ],
      "text/plain": [
       "   Unnamed: 0 Company   TypeName Inches                    ScreenResolution  \\\n",
       "0         0.0   Apple  Ultrabook   13.3  IPS Panel Retina Display 2560x1600   \n",
       "1         1.0   Apple  Ultrabook   13.3                            1440x900   \n",
       "\n",
       "                    Cpu  Ram               Memory  \\\n",
       "0  Intel Core i5 2.3GHz  8GB            128GB SSD   \n",
       "1  Intel Core i5 1.8GHz  8GB  128GB Flash Storage   \n",
       "\n",
       "                            Gpu  OpSys  Weight       Price  \n",
       "0  Intel Iris Plus Graphics 640  macOS  1.37kg  71378.6832  \n",
       "1        Intel HD Graphics 6000  macOS  1.34kg  47895.5232  "
      ]
     },
     "execution_count": 256,
     "metadata": {},
     "output_type": "execute_result"
    }
   ],
   "source": [
    "# import datafile\n",
    "data = pd.read_csv(\"uncleaned.csv\")\n",
    "data.head(2)"
   ]
  },
  {
   "cell_type": "code",
   "execution_count": 258,
   "id": "f5494b67-6692-40ba-8199-a856a53c1fda",
   "metadata": {},
   "outputs": [
    {
     "name": "stdout",
     "output_type": "stream",
     "text": [
      "<class 'pandas.core.frame.DataFrame'>\n",
      "RangeIndex: 1303 entries, 0 to 1302\n",
      "Data columns (total 12 columns):\n",
      " #   Column            Non-Null Count  Dtype  \n",
      "---  ------            --------------  -----  \n",
      " 0   Unnamed: 0        1273 non-null   float64\n",
      " 1   Company           1273 non-null   object \n",
      " 2   TypeName          1273 non-null   object \n",
      " 3   Inches            1273 non-null   object \n",
      " 4   ScreenResolution  1273 non-null   object \n",
      " 5   Cpu               1273 non-null   object \n",
      " 6   Ram               1273 non-null   object \n",
      " 7   Memory            1273 non-null   object \n",
      " 8   Gpu               1273 non-null   object \n",
      " 9   OpSys             1273 non-null   object \n",
      " 10  Weight            1273 non-null   object \n",
      " 11  Price             1273 non-null   float64\n",
      "dtypes: float64(2), object(10)\n",
      "memory usage: 122.3+ KB\n"
     ]
    }
   ],
   "source": [
    "# about the data\n",
    "data.info()"
   ]
  },
  {
   "cell_type": "raw",
   "id": "9e1ebe1d-f6e8-4a24-9d32-e48297299c04",
   "metadata": {},
   "source": [
    "Upon inspection: We need to change the CPU, RAM, Memory, Weight into numercial values & get rid of the description '?' to NaN & (obj to flts), OpSYS Windows 10 needs the space to be deleted to windows_10."
   ]
  },
  {
   "cell_type": "code",
   "execution_count": 261,
   "id": "e6166366-6af0-46aa-96af-ebfa2ef2826d",
   "metadata": {},
   "outputs": [
    {
     "data": {
      "text/plain": [
       "(1303, 12)"
      ]
     },
     "execution_count": 261,
     "metadata": {},
     "output_type": "execute_result"
    }
   ],
   "source": [
    "# data shape\n",
    "data.shape"
   ]
  },
  {
   "cell_type": "code",
   "execution_count": 262,
   "id": "430e4c6a-fa4d-4ec0-a8bf-cbabe0faa2c4",
   "metadata": {},
   "outputs": [
    {
     "name": "stdout",
     "output_type": "stream",
     "text": [
      "Unnamed: 0          30\n",
      "Company             30\n",
      "TypeName            30\n",
      "Inches              30\n",
      "ScreenResolution    30\n",
      "Cpu                 30\n",
      "Ram                 30\n",
      "Memory              30\n",
      "Gpu                 30\n",
      "OpSys               30\n",
      "Weight              30\n",
      "Price               30\n",
      "dtype: int64\n"
     ]
    }
   ],
   "source": [
    "# How many missing values are there, in each column? \n",
    "print(data.isnull().sum())"
   ]
  },
  {
   "cell_type": "code",
   "execution_count": 265,
   "id": "6539c4ba-c90c-4ba2-8376-bd1bba9e2a5d",
   "metadata": {},
   "outputs": [
    {
     "name": "stdout",
     "output_type": "stream",
     "text": [
      "29\n"
     ]
    }
   ],
   "source": [
    "# How many missing values are there, in each row?\n",
    "print(data.duplicated().sum())"
   ]
  },
  {
   "cell_type": "markdown",
   "id": "2fe778eb-e665-4223-b613-341c417cbec0",
   "metadata": {},
   "source": [
    "#### Editing the dataset"
   ]
  },
  {
   "cell_type": "code",
   "execution_count": 268,
   "id": "40aa001c-c52a-4b85-9c40-1c8fbcfd6a27",
   "metadata": {},
   "outputs": [],
   "source": [
    "# Replace strange marks eg. ? with NaN\n",
    "data.replace(\"?\", pd.NA, inplace= True)"
   ]
  },
  {
   "cell_type": "code",
   "execution_count": 270,
   "id": "7afbb624-d668-498f-a8ec-8c8c87d510e7",
   "metadata": {},
   "outputs": [],
   "source": [
    "# Find the critical columns for future data handling.\n",
    "critical_cols = [\"Company\", \"Cpu\", \"Ram\", \"Memory\", \"Gpu\", \"OpSys\", \"Weight\",\"Price\"]\n",
    "\n",
    "# Drop any rows missing data in critical_cols.\n",
    "data = data.dropna(subset=critical_cols)"
   ]
  },
  {
   "cell_type": "code",
   "execution_count": 272,
   "id": "e2759053-64fe-4f86-88b1-f40d62f1d673",
   "metadata": {},
   "outputs": [],
   "source": [
    "# Drop duplicates in dataset.\n",
    "data = data.drop_duplicates()"
   ]
  },
  {
   "cell_type": "code",
   "execution_count": 274,
   "id": "a4e641dc-36a9-4025-9bdc-0b53743d12ca",
   "metadata": {},
   "outputs": [
    {
     "name": "stdout",
     "output_type": "stream",
     "text": [
      "What does the new cleaned data look like? \n",
      "(1271, 12)\n"
     ]
    }
   ],
   "source": [
    "# What does the dataset look like now?\n",
    "print(\"What does the new cleaned data look like? \")\n",
    "print(data.shape)"
   ]
  },
  {
   "cell_type": "markdown",
   "id": "9588fdbc-258d-4a89-a454-d144f9ab2761",
   "metadata": {},
   "source": [
    "#### Standardizing the dataset"
   ]
  },
  {
   "cell_type": "code",
   "execution_count": 279,
   "id": "8c1d280a-7c54-4122-8c56-f48f65c083f2",
   "metadata": {},
   "outputs": [
    {
     "data": {
      "text/html": [
       "<div>\n",
       "<style scoped>\n",
       "    .dataframe tbody tr th:only-of-type {\n",
       "        vertical-align: middle;\n",
       "    }\n",
       "\n",
       "    .dataframe tbody tr th {\n",
       "        vertical-align: top;\n",
       "    }\n",
       "\n",
       "    .dataframe thead th {\n",
       "        text-align: right;\n",
       "    }\n",
       "</style>\n",
       "<table border=\"1\" class=\"dataframe\">\n",
       "  <thead>\n",
       "    <tr style=\"text-align: right;\">\n",
       "      <th></th>\n",
       "      <th>Unnamed: 0</th>\n",
       "      <th>Company</th>\n",
       "      <th>TypeName</th>\n",
       "      <th>Inches</th>\n",
       "      <th>ScreenResolution</th>\n",
       "      <th>Cpu</th>\n",
       "      <th>Ram</th>\n",
       "      <th>Memory</th>\n",
       "      <th>Gpu</th>\n",
       "      <th>OpSys</th>\n",
       "      <th>Weight</th>\n",
       "      <th>Price</th>\n",
       "    </tr>\n",
       "  </thead>\n",
       "  <tbody>\n",
       "    <tr>\n",
       "      <th>0</th>\n",
       "      <td>0.0</td>\n",
       "      <td>Apple</td>\n",
       "      <td>Ultrabook</td>\n",
       "      <td>13.3</td>\n",
       "      <td>IPS Panel Retina Display 2560x1600</td>\n",
       "      <td>Intel Core i5 2.3GHz</td>\n",
       "      <td>8GB</td>\n",
       "      <td>128GB SSD</td>\n",
       "      <td>Intel Iris Plus Graphics 640</td>\n",
       "      <td>macOS</td>\n",
       "      <td>1.37</td>\n",
       "      <td>71378.6832</td>\n",
       "    </tr>\n",
       "    <tr>\n",
       "      <th>1</th>\n",
       "      <td>1.0</td>\n",
       "      <td>Apple</td>\n",
       "      <td>Ultrabook</td>\n",
       "      <td>13.3</td>\n",
       "      <td>1440x900</td>\n",
       "      <td>Intel Core i5 1.8GHz</td>\n",
       "      <td>8GB</td>\n",
       "      <td>128GB Flash Storage</td>\n",
       "      <td>Intel HD Graphics 6000</td>\n",
       "      <td>macOS</td>\n",
       "      <td>1.34</td>\n",
       "      <td>47895.5232</td>\n",
       "    </tr>\n",
       "  </tbody>\n",
       "</table>\n",
       "</div>"
      ],
      "text/plain": [
       "   Unnamed: 0 Company   TypeName Inches                    ScreenResolution  \\\n",
       "0         0.0   Apple  Ultrabook   13.3  IPS Panel Retina Display 2560x1600   \n",
       "1         1.0   Apple  Ultrabook   13.3                            1440x900   \n",
       "\n",
       "                    Cpu  Ram               Memory  \\\n",
       "0  Intel Core i5 2.3GHz  8GB            128GB SSD   \n",
       "1  Intel Core i5 1.8GHz  8GB  128GB Flash Storage   \n",
       "\n",
       "                            Gpu  OpSys Weight       Price  \n",
       "0  Intel Iris Plus Graphics 640  macOS   1.37  71378.6832  \n",
       "1        Intel HD Graphics 6000  macOS   1.34  47895.5232  "
      ]
     },
     "execution_count": 279,
     "metadata": {},
     "output_type": "execute_result"
    }
   ],
   "source": [
    "# Remove unncessary information of kg with nothing.\n",
    "data[\"Weight\"] = data[\"Weight\"].replace(\"kg\",\"\", regex=True)\n",
    "\n",
    "# Covert string to float\n",
    "# data[\"Weight\"] = pd.to_numeric(data[\"Weight\"],errors='coerce')\n",
    "\n",
    "data.head(2)"
   ]
  },
  {
   "cell_type": "code",
   "execution_count": 281,
   "id": "6d48b419-8a08-44b5-ae3b-f7224ad8e496",
   "metadata": {},
   "outputs": [],
   "source": [
    "# Round decimal prices to 2 decimal places.\n",
    "data[\"Price\"] = data[\"Price\"].round(2)"
   ]
  },
  {
   "cell_type": "code",
   "execution_count": 283,
   "id": "cad48a84-bbb1-4375-8b10-cbec14a38538",
   "metadata": {},
   "outputs": [
    {
     "data": {
      "text/html": [
       "<div>\n",
       "<style scoped>\n",
       "    .dataframe tbody tr th:only-of-type {\n",
       "        vertical-align: middle;\n",
       "    }\n",
       "\n",
       "    .dataframe tbody tr th {\n",
       "        vertical-align: top;\n",
       "    }\n",
       "\n",
       "    .dataframe thead th {\n",
       "        text-align: right;\n",
       "    }\n",
       "</style>\n",
       "<table border=\"1\" class=\"dataframe\">\n",
       "  <thead>\n",
       "    <tr style=\"text-align: right;\">\n",
       "      <th></th>\n",
       "      <th>Unnamed: 0</th>\n",
       "      <th>Company</th>\n",
       "      <th>TypeName</th>\n",
       "      <th>Inches</th>\n",
       "      <th>ScreenResolution</th>\n",
       "      <th>Cpu</th>\n",
       "      <th>Ram</th>\n",
       "      <th>Memory</th>\n",
       "      <th>Gpu</th>\n",
       "      <th>OpSys</th>\n",
       "      <th>Weight</th>\n",
       "      <th>Price</th>\n",
       "    </tr>\n",
       "  </thead>\n",
       "  <tbody>\n",
       "    <tr>\n",
       "      <th>0</th>\n",
       "      <td>0.0</td>\n",
       "      <td>Apple</td>\n",
       "      <td>Ultrabook</td>\n",
       "      <td>13.3</td>\n",
       "      <td>IPS Panel Retina Display 2560x1600</td>\n",
       "      <td>Intel Core i5 2.3GHz</td>\n",
       "      <td>8GB</td>\n",
       "      <td>128GB SSD</td>\n",
       "      <td>Intel Iris Plus Graphics 640</td>\n",
       "      <td>macOS</td>\n",
       "      <td>1.37</td>\n",
       "      <td>71378.68</td>\n",
       "    </tr>\n",
       "    <tr>\n",
       "      <th>1</th>\n",
       "      <td>1.0</td>\n",
       "      <td>Apple</td>\n",
       "      <td>Ultrabook</td>\n",
       "      <td>13.3</td>\n",
       "      <td>1440x900</td>\n",
       "      <td>Intel Core i5 1.8GHz</td>\n",
       "      <td>8GB</td>\n",
       "      <td>128GB Flash Storage</td>\n",
       "      <td>Intel HD Graphics 6000</td>\n",
       "      <td>macOS</td>\n",
       "      <td>1.34</td>\n",
       "      <td>47895.52</td>\n",
       "    </tr>\n",
       "  </tbody>\n",
       "</table>\n",
       "</div>"
      ],
      "text/plain": [
       "   Unnamed: 0 Company   TypeName Inches                    ScreenResolution  \\\n",
       "0         0.0   Apple  Ultrabook   13.3  IPS Panel Retina Display 2560x1600   \n",
       "1         1.0   Apple  Ultrabook   13.3                            1440x900   \n",
       "\n",
       "                    Cpu  Ram               Memory  \\\n",
       "0  Intel Core i5 2.3GHz  8GB            128GB SSD   \n",
       "1  Intel Core i5 1.8GHz  8GB  128GB Flash Storage   \n",
       "\n",
       "                            Gpu  OpSys Weight     Price  \n",
       "0  Intel Iris Plus Graphics 640  macOS   1.37  71378.68  \n",
       "1        Intel HD Graphics 6000  macOS   1.34  47895.52  "
      ]
     },
     "execution_count": 283,
     "metadata": {},
     "output_type": "execute_result"
    }
   ],
   "source": [
    "# Fill any missing data with 0.\n",
    "data[\"Weight\"].fillna(0, inplace = True)\n",
    "data[\"Price\"].fillna(0, inplace = True)\n",
    "data.head(2)"
   ]
  },
  {
   "cell_type": "code",
   "execution_count": 293,
   "id": "636b0321-0a48-4bf6-9a73-6d837e10662a",
   "metadata": {},
   "outputs": [],
   "source": [
    "# Remove any spacing i.e Windows 10 to Windows_10\n",
    "data[\"OpSys\"] = data[\"OpSys\"].str.lower().str.replace(\" \", \"_\")"
   ]
  },
  {
   "cell_type": "code",
   "execution_count": 295,
   "id": "99de63f2-372e-463c-afd0-4a98eec87a89",
   "metadata": {},
   "outputs": [
    {
     "data": {
      "text/plain": [
       "(1271, 12)"
      ]
     },
     "execution_count": 295,
     "metadata": {},
     "output_type": "execute_result"
    }
   ],
   "source": [
    "# What is the current data shape?\n",
    "data.shape"
   ]
  },
  {
   "cell_type": "code",
   "execution_count": 299,
   "id": "b3cfb158-784c-49f6-95eb-f0ce6eba3a75",
   "metadata": {},
   "outputs": [
    {
     "data": {
      "text/html": [
       "<div>\n",
       "<style scoped>\n",
       "    .dataframe tbody tr th:only-of-type {\n",
       "        vertical-align: middle;\n",
       "    }\n",
       "\n",
       "    .dataframe tbody tr th {\n",
       "        vertical-align: top;\n",
       "    }\n",
       "\n",
       "    .dataframe thead th {\n",
       "        text-align: right;\n",
       "    }\n",
       "</style>\n",
       "<table border=\"1\" class=\"dataframe\">\n",
       "  <thead>\n",
       "    <tr style=\"text-align: right;\">\n",
       "      <th></th>\n",
       "      <th>Unnamed: 0</th>\n",
       "      <th>Company</th>\n",
       "      <th>TypeName</th>\n",
       "      <th>Inches</th>\n",
       "      <th>ScreenResolution</th>\n",
       "      <th>Cpu</th>\n",
       "      <th>Ram</th>\n",
       "      <th>Memory</th>\n",
       "      <th>Gpu</th>\n",
       "      <th>OpSys</th>\n",
       "      <th>Weight</th>\n",
       "      <th>Price</th>\n",
       "    </tr>\n",
       "  </thead>\n",
       "  <tbody>\n",
       "    <tr>\n",
       "      <th>1301</th>\n",
       "      <td>1301.0</td>\n",
       "      <td>HP</td>\n",
       "      <td>Notebook</td>\n",
       "      <td>15.6</td>\n",
       "      <td>1366x768</td>\n",
       "      <td>Intel Core i7 6500U 2.5GHz</td>\n",
       "      <td>6GB</td>\n",
       "      <td>1TB HDD</td>\n",
       "      <td>AMD Radeon R5 M330</td>\n",
       "      <td>windows_10</td>\n",
       "      <td>2.19</td>\n",
       "      <td>40705.92</td>\n",
       "    </tr>\n",
       "    <tr>\n",
       "      <th>1302</th>\n",
       "      <td>1302.0</td>\n",
       "      <td>Asus</td>\n",
       "      <td>Notebook</td>\n",
       "      <td>15.6</td>\n",
       "      <td>1366x768</td>\n",
       "      <td>Intel Celeron Dual Core N3050 1.6GHz</td>\n",
       "      <td>4GB</td>\n",
       "      <td>500GB HDD</td>\n",
       "      <td>Intel HD Graphics</td>\n",
       "      <td>windows_10</td>\n",
       "      <td>2.2</td>\n",
       "      <td>19660.32</td>\n",
       "    </tr>\n",
       "  </tbody>\n",
       "</table>\n",
       "</div>"
      ],
      "text/plain": [
       "      Unnamed: 0 Company  TypeName Inches ScreenResolution  \\\n",
       "1301      1301.0      HP  Notebook   15.6         1366x768   \n",
       "1302      1302.0    Asus  Notebook   15.6         1366x768   \n",
       "\n",
       "                                       Cpu  Ram     Memory  \\\n",
       "1301            Intel Core i7 6500U 2.5GHz  6GB    1TB HDD   \n",
       "1302  Intel Celeron Dual Core N3050 1.6GHz  4GB  500GB HDD   \n",
       "\n",
       "                     Gpu       OpSys Weight     Price  \n",
       "1301  AMD Radeon R5 M330  windows_10   2.19  40705.92  \n",
       "1302   Intel HD Graphics  windows_10    2.2  19660.32  "
      ]
     },
     "execution_count": 299,
     "metadata": {},
     "output_type": "execute_result"
    }
   ],
   "source": [
    "# What does the data look like now?\n",
    "data.tail(2)"
   ]
  },
  {
   "cell_type": "code",
   "execution_count": 303,
   "id": "2685c832-3924-4b97-a5fb-e8523aa02423",
   "metadata": {},
   "outputs": [],
   "source": [
    "# Extract CPU speed from CPU column to numerical only.\n",
    "\n",
    "def extract_cpu(cpu_info):\n",
    "    try:\n",
    "        return float(cpu_info.split()[-1][:-3]) #turn 1.6GHZ to 1.6 only.\n",
    "    except Exception as e:\n",
    "        return None\n"
   ]
  },
  {
   "cell_type": "code",
   "execution_count": 309,
   "id": "579c561d-85ba-48e8-a0f1-d28fdaf2dca1",
   "metadata": {},
   "outputs": [
    {
     "name": "stdout",
     "output_type": "stream",
     "text": [
      "Current data shape:  (1271, 13)\n"
     ]
    }
   ],
   "source": [
    "# Create a new column for the CPU numerical \n",
    "data[\"CPU_Speed\"] = data[\"Cpu\"].apply(extract_cpu)\n",
    "print(\"Current data shape: \", data.shape)"
   ]
  },
  {
   "cell_type": "code",
   "execution_count": 313,
   "id": "2a0f5c40-558d-481f-a72e-893aa2639c02",
   "metadata": {},
   "outputs": [],
   "source": [
    "# Standardize our memory, change the GB & TB to MB standardize \n",
    "\n",
    "def convert_memory(memory):\n",
    "    try:\n",
    "        if \"GB\" in memory:\n",
    "            return int(memory.replace(\"GB\",\"\")) *1024\n",
    "        elif \"TB\" in memory:\n",
    "            return int(memory.replace(\"TB\",\"\")) *1024*1024\n",
    "    except Exception as e:\n",
    "        return None"
   ]
  },
  {
   "cell_type": "code",
   "execution_count": 315,
   "id": "63bb7a03-367d-496e-a097-988d62e835e6",
   "metadata": {},
   "outputs": [],
   "source": [
    "# Create new column for the MB datasize\n",
    "data[\"Memory_MB\"] = data[\"Memory\"].apply(convert_memory)"
   ]
  },
  {
   "cell_type": "code",
   "execution_count": 317,
   "id": "9a92c0fb-d11f-4376-a3a6-0f069ec4a2fd",
   "metadata": {},
   "outputs": [],
   "source": [
    "# Fill in any missing data with 0 for the new columns.\n",
    "data[\"CPU_Speed\"].fillna(0, inplace = True)\n",
    "data[\"Memory_MB\"].fillna(0, inplace = True)"
   ]
  },
  {
   "cell_type": "code",
   "execution_count": 331,
   "id": "0b3c2dd6-417d-4e13-9137-961f69f98e18",
   "metadata": {},
   "outputs": [],
   "source": [
    "# Fill any missing data from other columns.\n",
    "data[\"Inches\"].fillna(0, inplace = True)"
   ]
  },
  {
   "cell_type": "markdown",
   "id": "d3047aef-93a2-4a2f-8532-4d001e7c5e1b",
   "metadata": {},
   "source": [
    "#### Final Testing"
   ]
  },
  {
   "cell_type": "code",
   "execution_count": 327,
   "id": "50c3c784-012b-40b6-89a2-273164918974",
   "metadata": {},
   "outputs": [
    {
     "data": {
      "text/plain": [
       "(1271, 14)"
      ]
     },
     "execution_count": 327,
     "metadata": {},
     "output_type": "execute_result"
    }
   ],
   "source": [
    "# What is the final shape?\n",
    "data.shape"
   ]
  },
  {
   "cell_type": "code",
   "execution_count": 333,
   "id": "c43b825c-44e0-4180-9414-089bc1c7ba1c",
   "metadata": {},
   "outputs": [
    {
     "data": {
      "text/plain": [
       "Unnamed: 0          0\n",
       "Company             0\n",
       "TypeName            0\n",
       "Inches              0\n",
       "ScreenResolution    0\n",
       "Cpu                 0\n",
       "Ram                 0\n",
       "Memory              0\n",
       "Gpu                 0\n",
       "OpSys               0\n",
       "Weight              0\n",
       "Price               0\n",
       "CPU_Speed           0\n",
       "Memory_MB           0\n",
       "dtype: int64"
      ]
     },
     "execution_count": 333,
     "metadata": {},
     "output_type": "execute_result"
    }
   ],
   "source": [
    "# What are the missing values within each column after cleaning?\n",
    "data.isnull().sum()"
   ]
  },
  {
   "cell_type": "code",
   "execution_count": 335,
   "id": "ef5d0231-59b3-49eb-aa8c-c1a538d7dc7f",
   "metadata": {},
   "outputs": [
    {
     "data": {
      "text/plain": [
       "0"
      ]
     },
     "execution_count": 335,
     "metadata": {},
     "output_type": "execute_result"
    }
   ],
   "source": [
    "# What are the number of duplicated rows after cleaning?\n",
    "data.duplicated().sum()"
   ]
  },
  {
   "cell_type": "code",
   "execution_count": 337,
   "id": "d2771efb-2a7e-4173-9d27-394e536feb62",
   "metadata": {},
   "outputs": [
    {
     "data": {
      "text/plain": [
       "Unnamed: 0          float64\n",
       "Company              object\n",
       "TypeName             object\n",
       "Inches               object\n",
       "ScreenResolution     object\n",
       "Cpu                  object\n",
       "Ram                  object\n",
       "Memory               object\n",
       "Gpu                  object\n",
       "OpSys                object\n",
       "Weight               object\n",
       "Price               float64\n",
       "CPU_Speed           float64\n",
       "Memory_MB             int64\n",
       "dtype: object"
      ]
     },
     "execution_count": 337,
     "metadata": {},
     "output_type": "execute_result"
    }
   ],
   "source": [
    "# What are the remaining data types?\n",
    "data.dtypes"
   ]
  },
  {
   "cell_type": "code",
   "execution_count": 339,
   "id": "eb46205c-7e83-44fe-b675-4a82f3bc241d",
   "metadata": {},
   "outputs": [
    {
     "name": "stdout",
     "output_type": "stream",
     "text": [
      "<class 'pandas.core.frame.DataFrame'>\n",
      "Index: 1271 entries, 0 to 1302\n",
      "Data columns (total 14 columns):\n",
      " #   Column            Non-Null Count  Dtype  \n",
      "---  ------            --------------  -----  \n",
      " 0   Unnamed: 0        1271 non-null   float64\n",
      " 1   Company           1271 non-null   object \n",
      " 2   TypeName          1271 non-null   object \n",
      " 3   Inches            1271 non-null   object \n",
      " 4   ScreenResolution  1271 non-null   object \n",
      " 5   Cpu               1271 non-null   object \n",
      " 6   Ram               1271 non-null   object \n",
      " 7   Memory            1271 non-null   object \n",
      " 8   Gpu               1271 non-null   object \n",
      " 9   OpSys             1271 non-null   object \n",
      " 10  Weight            1271 non-null   object \n",
      " 11  Price             1271 non-null   float64\n",
      " 12  CPU_Speed         1271 non-null   float64\n",
      " 13  Memory_MB         1271 non-null   int64  \n",
      "dtypes: float64(3), int64(1), object(10)\n",
      "memory usage: 148.9+ KB\n"
     ]
    }
   ],
   "source": [
    "data.info()"
   ]
  },
  {
   "cell_type": "code",
   "execution_count": null,
   "id": "d785cb67-957b-49c2-b747-55a89c17da82",
   "metadata": {},
   "outputs": [],
   "source": []
  }
 ],
 "metadata": {
  "kernelspec": {
   "display_name": "anaconda-2024.02-py310",
   "language": "python",
   "name": "conda-env-anaconda-2024.02-py310-py"
  },
  "language_info": {
   "codemirror_mode": {
    "name": "ipython",
    "version": 3
   },
   "file_extension": ".py",
   "mimetype": "text/x-python",
   "name": "python",
   "nbconvert_exporter": "python",
   "pygments_lexer": "ipython3",
   "version": "3.10.14"
  }
 },
 "nbformat": 4,
 "nbformat_minor": 5
}

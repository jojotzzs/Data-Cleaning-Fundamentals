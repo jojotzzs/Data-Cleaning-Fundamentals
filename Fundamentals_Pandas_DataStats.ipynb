{
 "cells": [
  {
   "cell_type": "markdown",
   "id": "a4c7c717-bd49-434a-8fca-14a81a0b6cd7",
   "metadata": {},
   "source": [
    "## Fundamentals in Statistics and Data Cleaning using Pandas"
   ]
  },
  {
   "cell_type": "markdown",
   "id": "5eb0c911-004b-41ab-8ac0-0f2495e6abb3",
   "metadata": {},
   "source": [
    "#### Goal: To conduct data manipulation with pandas then undertake basic statistical analysis.\n",
    "#### Dataset: Car Financing\n"
   ]
  },
  {
   "cell_type": "code",
   "execution_count": 450,
   "id": "dea17949-3404-42c9-a2a8-6ac81ded6b37",
   "metadata": {},
   "outputs": [],
   "source": [
    "# Import and load the data\n",
    "\n",
    "import numpy as np\n",
    "import pandas as pd\n",
    "from scipy import stats\n",
    "\n",
    "df = pd.read_csv('car_financing.csv', index_col=0)"
   ]
  },
  {
   "cell_type": "code",
   "execution_count": 452,
   "id": "01ff0279-6732-4afb-8fcc-e0afe7cb3799",
   "metadata": {},
   "outputs": [
    {
     "data": {
      "text/html": [
       "<div>\n",
       "<style scoped>\n",
       "    .dataframe tbody tr th:only-of-type {\n",
       "        vertical-align: middle;\n",
       "    }\n",
       "\n",
       "    .dataframe tbody tr th {\n",
       "        vertical-align: top;\n",
       "    }\n",
       "\n",
       "    .dataframe thead th {\n",
       "        text-align: right;\n",
       "    }\n",
       "</style>\n",
       "<table border=\"1\" class=\"dataframe\">\n",
       "  <thead>\n",
       "    <tr style=\"text-align: right;\">\n",
       "      <th></th>\n",
       "      <th>Starting Balance</th>\n",
       "      <th>Repayment</th>\n",
       "      <th>Interest Paid</th>\n",
       "      <th>Principal Paid</th>\n",
       "      <th>New Balance</th>\n",
       "      <th>term</th>\n",
       "      <th>interest_rate</th>\n",
       "      <th>car_type</th>\n",
       "    </tr>\n",
       "    <tr>\n",
       "      <th>Month</th>\n",
       "      <th></th>\n",
       "      <th></th>\n",
       "      <th></th>\n",
       "      <th></th>\n",
       "      <th></th>\n",
       "      <th></th>\n",
       "      <th></th>\n",
       "      <th></th>\n",
       "    </tr>\n",
       "  </thead>\n",
       "  <tbody>\n",
       "    <tr>\n",
       "      <th>59</th>\n",
       "      <td>1586.00</td>\n",
       "      <td>796.01</td>\n",
       "      <td>3.83</td>\n",
       "      <td>792.18</td>\n",
       "      <td>793.82</td>\n",
       "      <td>60</td>\n",
       "      <td>0.029</td>\n",
       "      <td>VW Golf R</td>\n",
       "    </tr>\n",
       "    <tr>\n",
       "      <th>60</th>\n",
       "      <td>793.82</td>\n",
       "      <td>796.01</td>\n",
       "      <td>1.91</td>\n",
       "      <td>794.10</td>\n",
       "      <td>-0.28</td>\n",
       "      <td>60</td>\n",
       "      <td>0.029</td>\n",
       "      <td>VW Golf R</td>\n",
       "    </tr>\n",
       "  </tbody>\n",
       "</table>\n",
       "</div>"
      ],
      "text/plain": [
       "       Starting Balance  Repayment  Interest Paid  Principal Paid  \\\n",
       "Month                                                               \n",
       "59              1586.00     796.01           3.83          792.18   \n",
       "60               793.82     796.01           1.91          794.10   \n",
       "\n",
       "       New Balance  term  interest_rate   car_type  \n",
       "Month                                               \n",
       "59          793.82    60          0.029  VW Golf R  \n",
       "60           -0.28    60          0.029  VW Golf R  "
      ]
     },
     "execution_count": 452,
     "metadata": {},
     "output_type": "execute_result"
    }
   ],
   "source": [
    "# Check the dataset.\n",
    "df.head(2)\n",
    "df.tail(2)"
   ]
  },
  {
   "cell_type": "code",
   "execution_count": 453,
   "id": "015daacc-fe12-4b9a-a6be-c9dd0c002a9c",
   "metadata": {},
   "outputs": [
    {
     "data": {
      "text/plain": [
       "Starting Balance    float64\n",
       "Repayment           float64\n",
       "Interest Paid       float64\n",
       "Principal Paid      float64\n",
       "New Balance         float64\n",
       "term                  int64\n",
       "interest_rate       float64\n",
       "car_type             object\n",
       "dtype: object"
      ]
     },
     "execution_count": 453,
     "metadata": {},
     "output_type": "execute_result"
    }
   ],
   "source": [
    "# Check the data types\n",
    "df.dtypes"
   ]
  },
  {
   "cell_type": "code",
   "execution_count": 455,
   "id": "c314b965-30e6-4a4f-8883-ae1c7b5ddc02",
   "metadata": {},
   "outputs": [],
   "source": [
    "### The term has int64 > than float64 in storage."
   ]
  },
  {
   "cell_type": "code",
   "execution_count": 457,
   "id": "bc035b97-1458-441b-8263-9cb334edbab6",
   "metadata": {},
   "outputs": [
    {
     "data": {
      "text/plain": [
       "(408, 8)"
      ]
     },
     "execution_count": 457,
     "metadata": {},
     "output_type": "execute_result"
    }
   ],
   "source": [
    "# Check the shape/array of the data\n",
    "df.shape"
   ]
  },
  {
   "cell_type": "code",
   "execution_count": 459,
   "id": "dc09bbb1-6e02-4626-bd47-a6d20b7974a8",
   "metadata": {},
   "outputs": [
    {
     "name": "stdout",
     "output_type": "stream",
     "text": [
      "<class 'pandas.core.frame.DataFrame'>\n",
      "Index: 408 entries, 1 to 60\n",
      "Data columns (total 8 columns):\n",
      " #   Column            Non-Null Count  Dtype  \n",
      "---  ------            --------------  -----  \n",
      " 0   Starting Balance  408 non-null    float64\n",
      " 1   Repayment         408 non-null    float64\n",
      " 2   Interest Paid     408 non-null    float64\n",
      " 3   Principal Paid    408 non-null    float64\n",
      " 4   New Balance       408 non-null    float64\n",
      " 5   term              408 non-null    int64  \n",
      " 6   interest_rate     408 non-null    float64\n",
      " 7   car_type          408 non-null    object \n",
      "dtypes: float64(6), int64(1), object(1)\n",
      "memory usage: 28.7+ KB\n"
     ]
    }
   ],
   "source": [
    "# Check the info to see the non-null values.\n",
    "df.info()"
   ]
  },
  {
   "cell_type": "code",
   "execution_count": 461,
   "id": "b85ffc31-1d89-47be-8727-fa986d813092",
   "metadata": {},
   "outputs": [
    {
     "data": {
      "text/plain": [
       "car_type\n",
       "VW Golf R         144\n",
       "Toyota Sienna     120\n",
       "Toyota Carolla    111\n",
       "Toyota Corolla     33\n",
       "Name: count, dtype: int64"
      ]
     },
     "execution_count": 461,
     "metadata": {},
     "output_type": "execute_result"
    }
   ],
   "source": [
    "# how many times do car models appear?\n",
    "df['car_type'].value_counts()"
   ]
  },
  {
   "cell_type": "code",
   "execution_count": 463,
   "id": "dcca78b5-9e53-405e-9f39-408134172bc6",
   "metadata": {},
   "outputs": [],
   "source": [
    "# Fliter for a specific car model.\n",
    "##car_filter = df['car_type']== 'Toyota Corolla'"
   ]
  },
  {
   "cell_type": "code",
   "execution_count": 465,
   "id": "4fa6b791-ec6a-48b2-ba72-a6024562d7a0",
   "metadata": {},
   "outputs": [],
   "source": [
    "##car_filter.head(2)"
   ]
  },
  {
   "cell_type": "code",
   "execution_count": 467,
   "id": "fc154c3b-d40a-4a9c-9183-ac8994f50144",
   "metadata": {},
   "outputs": [],
   "source": [
    "# Filter df for 'Toyota Corolla'.\n",
    "##df = df.loc[car_filter,:]"
   ]
  },
  {
   "cell_type": "code",
   "execution_count": 469,
   "id": "ffc3eb13-5518-4f91-b3e6-d7a53a83293a",
   "metadata": {},
   "outputs": [],
   "source": [
    "###df['car_type'].value_counts()"
   ]
  },
  {
   "cell_type": "code",
   "execution_count": 471,
   "id": "a63ec76d-048b-44f6-a598-189211b2cb2b",
   "metadata": {},
   "outputs": [
    {
     "data": {
      "text/plain": [
       "interest_rate\n",
       "0.0290    144\n",
       "0.0390    144\n",
       "0.0359     60\n",
       "0.0702     60\n",
       "Name: count, dtype: int64"
      ]
     },
     "execution_count": 471,
     "metadata": {},
     "output_type": "execute_result"
    }
   ],
   "source": [
    "# Filter the interest rates.\n",
    "df['interest_rate'].value_counts()"
   ]
  },
  {
   "cell_type": "code",
   "execution_count": 473,
   "id": "92ac41a1-ad31-4dd0-b1e9-3b7da257e304",
   "metadata": {},
   "outputs": [],
   "source": [
    "##interest_filter = df['interest_rate']==0.0359\n",
    "##print(interest_filter.head(2))"
   ]
  },
  {
   "cell_type": "code",
   "execution_count": 475,
   "id": "0743f5c7-a85f-4ff1-95f1-0be8f5350958",
   "metadata": {},
   "outputs": [],
   "source": [
    "##df = df.loc[interest_filter, :]"
   ]
  },
  {
   "cell_type": "code",
   "execution_count": 477,
   "id": "8baa5669-d2f8-490d-ad30-32238c51c6db",
   "metadata": {},
   "outputs": [],
   "source": [
    "##df['interest_rate'].value_counts(dropna = True)"
   ]
  },
  {
   "cell_type": "code",
   "execution_count": 479,
   "id": "b153dc69-b5f3-4b01-abf8-f42d977e484e",
   "metadata": {},
   "outputs": [
    {
     "name": "stdout",
     "output_type": "stream",
     "text": [
      "       starting_balance  repayment  interest_paid  principal_paid  \\\n",
      "Month                                                               \n",
      "1              34689.96     687.23         202.93          484.30   \n",
      "2              34205.66     687.23         200.10          487.13   \n",
      "\n",
      "       new_balance  term  interest_rate       car_type  \n",
      "Month                                                   \n",
      "1         34205.66    60         0.0702  Toyota Sienna  \n",
      "2         33718.53    60         0.0702  Toyota Sienna  \n"
     ]
    }
   ],
   "source": [
    "# Rename certain columns in the dataset.\n",
    "df = df.rename(columns= ({'Starting Balance':'starting_balance', \n",
    "                        'Interest Paid':'interest_paid',\n",
    "                        'Principal Paid': 'principal_paid',\n",
    "                        'New Balance': 'new_balance',\n",
    "                         'Repayment': 'repayment'}))\n",
    "print(df.head(2))"
   ]
  },
  {
   "cell_type": "code",
   "execution_count": 481,
   "id": "f4c2e3da-837c-47d8-b292-7c3f55295484",
   "metadata": {},
   "outputs": [
    {
     "data": {
      "text/plain": [
       "Month\n",
       "1    False\n",
       "2    False\n",
       "3    False\n",
       "4    False\n",
       "5    False\n",
       "Name: interest_paid, dtype: bool"
      ]
     },
     "execution_count": 481,
     "metadata": {},
     "output_type": "execute_result"
    }
   ],
   "source": [
    "#Filter for any missing/null values.\n",
    "df['interest_paid'].isna().head()"
   ]
  },
  {
   "cell_type": "code",
   "execution_count": 483,
   "id": "e0f49275-722e-46fe-aa5e-0c776daf7cb9",
   "metadata": {},
   "outputs": [],
   "source": [
    "interest_missing = df['interest_paid'].isna()"
   ]
  },
  {
   "cell_type": "code",
   "execution_count": 485,
   "id": "76bdd352-e5df-4773-b2f3-49c9fa7145d1",
   "metadata": {},
   "outputs": [
    {
     "data": {
      "text/html": [
       "<div>\n",
       "<style scoped>\n",
       "    .dataframe tbody tr th:only-of-type {\n",
       "        vertical-align: middle;\n",
       "    }\n",
       "\n",
       "    .dataframe tbody tr th {\n",
       "        vertical-align: top;\n",
       "    }\n",
       "\n",
       "    .dataframe thead th {\n",
       "        text-align: right;\n",
       "    }\n",
       "</style>\n",
       "<table border=\"1\" class=\"dataframe\">\n",
       "  <thead>\n",
       "    <tr style=\"text-align: right;\">\n",
       "      <th></th>\n",
       "      <th>starting_balance</th>\n",
       "      <th>repayment</th>\n",
       "      <th>interest_paid</th>\n",
       "      <th>principal_paid</th>\n",
       "      <th>new_balance</th>\n",
       "      <th>term</th>\n",
       "      <th>interest_rate</th>\n",
       "      <th>car_type</th>\n",
       "    </tr>\n",
       "    <tr>\n",
       "      <th>Month</th>\n",
       "      <th></th>\n",
       "      <th></th>\n",
       "      <th></th>\n",
       "      <th></th>\n",
       "      <th></th>\n",
       "      <th></th>\n",
       "      <th></th>\n",
       "      <th></th>\n",
       "    </tr>\n",
       "  </thead>\n",
       "  <tbody>\n",
       "  </tbody>\n",
       "</table>\n",
       "</div>"
      ],
      "text/plain": [
       "Empty DataFrame\n",
       "Columns: [starting_balance, repayment, interest_paid, principal_paid, new_balance, term, interest_rate, car_type]\n",
       "Index: []"
      ]
     },
     "execution_count": 485,
     "metadata": {},
     "output_type": "execute_result"
    }
   ],
   "source": [
    "df.loc[interest_missing,:]"
   ]
  },
  {
   "cell_type": "markdown",
   "id": "5fb0c3b3-4396-4c30-8518-445ff1f92b77",
   "metadata": {},
   "source": [
    "#### Statistical Summary"
   ]
  },
  {
   "cell_type": "code",
   "execution_count": 489,
   "id": "256f82cf-da3c-43eb-af6e-a8e281e180ed",
   "metadata": {},
   "outputs": [
    {
     "data": {
      "text/html": [
       "<div>\n",
       "<style scoped>\n",
       "    .dataframe tbody tr th:only-of-type {\n",
       "        vertical-align: middle;\n",
       "    }\n",
       "\n",
       "    .dataframe tbody tr th {\n",
       "        vertical-align: top;\n",
       "    }\n",
       "\n",
       "    .dataframe thead th {\n",
       "        text-align: right;\n",
       "    }\n",
       "</style>\n",
       "<table border=\"1\" class=\"dataframe\">\n",
       "  <thead>\n",
       "    <tr style=\"text-align: right;\">\n",
       "      <th></th>\n",
       "      <th>starting_balance</th>\n",
       "      <th>repayment</th>\n",
       "      <th>interest_paid</th>\n",
       "      <th>principal_paid</th>\n",
       "      <th>new_balance</th>\n",
       "      <th>term</th>\n",
       "      <th>interest_rate</th>\n",
       "    </tr>\n",
       "  </thead>\n",
       "  <tbody>\n",
       "    <tr>\n",
       "      <th>count</th>\n",
       "      <td>408.000000</td>\n",
       "      <td>408.000000</td>\n",
       "      <td>408.000000</td>\n",
       "      <td>408.000000</td>\n",
       "      <td>408.000000</td>\n",
       "      <td>408.000000</td>\n",
       "      <td>408.000000</td>\n",
       "    </tr>\n",
       "    <tr>\n",
       "      <th>mean</th>\n",
       "      <td>17562.870343</td>\n",
       "      <td>712.134118</td>\n",
       "      <td>56.715123</td>\n",
       "      <td>655.418995</td>\n",
       "      <td>16907.451348</td>\n",
       "      <td>52.941176</td>\n",
       "      <td>0.039603</td>\n",
       "    </tr>\n",
       "    <tr>\n",
       "      <th>std</th>\n",
       "      <td>11224.423084</td>\n",
       "      <td>247.447947</td>\n",
       "      <td>40.775353</td>\n",
       "      <td>245.361625</td>\n",
       "      <td>11168.974693</td>\n",
       "      <td>9.268926</td>\n",
       "      <td>0.013414</td>\n",
       "    </tr>\n",
       "    <tr>\n",
       "      <th>min</th>\n",
       "      <td>395.410000</td>\n",
       "      <td>396.820000</td>\n",
       "      <td>1.280000</td>\n",
       "      <td>326.620000</td>\n",
       "      <td>-0.490000</td>\n",
       "      <td>36.000000</td>\n",
       "      <td>0.029000</td>\n",
       "    </tr>\n",
       "    <tr>\n",
       "      <th>25%</th>\n",
       "      <td>8557.900000</td>\n",
       "      <td>486.740000</td>\n",
       "      <td>26.257500</td>\n",
       "      <td>476.972500</td>\n",
       "      <td>7832.080000</td>\n",
       "      <td>48.000000</td>\n",
       "      <td>0.029000</td>\n",
       "    </tr>\n",
       "    <tr>\n",
       "      <th>50%</th>\n",
       "      <td>16262.230000</td>\n",
       "      <td>661.995000</td>\n",
       "      <td>50.640000</td>\n",
       "      <td>598.135000</td>\n",
       "      <td>15539.305000</td>\n",
       "      <td>60.000000</td>\n",
       "      <td>0.037450</td>\n",
       "    </tr>\n",
       "    <tr>\n",
       "      <th>75%</th>\n",
       "      <td>25285.055000</td>\n",
       "      <td>796.010000</td>\n",
       "      <td>76.357500</td>\n",
       "      <td>760.790000</td>\n",
       "      <td>24535.925000</td>\n",
       "      <td>60.000000</td>\n",
       "      <td>0.039000</td>\n",
       "    </tr>\n",
       "    <tr>\n",
       "      <th>max</th>\n",
       "      <td>44409.600000</td>\n",
       "      <td>1289.530000</td>\n",
       "      <td>202.930000</td>\n",
       "      <td>1286.430000</td>\n",
       "      <td>43720.910000</td>\n",
       "      <td>60.000000</td>\n",
       "      <td>0.070200</td>\n",
       "    </tr>\n",
       "  </tbody>\n",
       "</table>\n",
       "</div>"
      ],
      "text/plain": [
       "       starting_balance    repayment  interest_paid  principal_paid  \\\n",
       "count        408.000000   408.000000     408.000000      408.000000   \n",
       "mean       17562.870343   712.134118      56.715123      655.418995   \n",
       "std        11224.423084   247.447947      40.775353      245.361625   \n",
       "min          395.410000   396.820000       1.280000      326.620000   \n",
       "25%         8557.900000   486.740000      26.257500      476.972500   \n",
       "50%        16262.230000   661.995000      50.640000      598.135000   \n",
       "75%        25285.055000   796.010000      76.357500      760.790000   \n",
       "max        44409.600000  1289.530000     202.930000     1286.430000   \n",
       "\n",
       "        new_balance        term  interest_rate  \n",
       "count    408.000000  408.000000     408.000000  \n",
       "mean   16907.451348   52.941176       0.039603  \n",
       "std    11168.974693    9.268926       0.013414  \n",
       "min       -0.490000   36.000000       0.029000  \n",
       "25%     7832.080000   48.000000       0.029000  \n",
       "50%    15539.305000   60.000000       0.037450  \n",
       "75%    24535.925000   60.000000       0.039000  \n",
       "max    43720.910000   60.000000       0.070200  "
      ]
     },
     "execution_count": 489,
     "metadata": {},
     "output_type": "execute_result"
    }
   ],
   "source": [
    "# Exploratory data analysis.\n",
    "\n",
    "df.describe()"
   ]
  },
  {
   "cell_type": "code",
   "execution_count": 490,
   "id": "f2493217-346a-4a7b-8ac7-9b25165e70ad",
   "metadata": {},
   "outputs": [
    {
     "data": {
      "text/html": [
       "<div>\n",
       "<style scoped>\n",
       "    .dataframe tbody tr th:only-of-type {\n",
       "        vertical-align: middle;\n",
       "    }\n",
       "\n",
       "    .dataframe tbody tr th {\n",
       "        vertical-align: top;\n",
       "    }\n",
       "\n",
       "    .dataframe thead th {\n",
       "        text-align: right;\n",
       "    }\n",
       "</style>\n",
       "<table border=\"1\" class=\"dataframe\">\n",
       "  <thead>\n",
       "    <tr style=\"text-align: right;\">\n",
       "      <th></th>\n",
       "      <th>starting_balance</th>\n",
       "      <th>repayment</th>\n",
       "      <th>principal_paid</th>\n",
       "      <th>new_balance</th>\n",
       "      <th>term</th>\n",
       "      <th>interest_rate</th>\n",
       "      <th>car_type</th>\n",
       "    </tr>\n",
       "    <tr>\n",
       "      <th>interest_paid</th>\n",
       "      <th></th>\n",
       "      <th></th>\n",
       "      <th></th>\n",
       "      <th></th>\n",
       "      <th></th>\n",
       "      <th></th>\n",
       "      <th></th>\n",
       "    </tr>\n",
       "  </thead>\n",
       "  <tbody>\n",
       "    <tr>\n",
       "      <th>1.28</th>\n",
       "      <td>395.41</td>\n",
       "      <td>396.82</td>\n",
       "      <td>395.54</td>\n",
       "      <td>-0.13</td>\n",
       "      <td>60</td>\n",
       "      <td>0.0390</td>\n",
       "      <td>Toyota Carolla</td>\n",
       "    </tr>\n",
       "    <tr>\n",
       "      <th>1.57</th>\n",
       "      <td>485.02</td>\n",
       "      <td>486.74</td>\n",
       "      <td>485.17</td>\n",
       "      <td>-0.15</td>\n",
       "      <td>48</td>\n",
       "      <td>0.0390</td>\n",
       "      <td>Toyota Carolla</td>\n",
       "    </tr>\n",
       "    <tr>\n",
       "      <th>1.88</th>\n",
       "      <td>630.23</td>\n",
       "      <td>632.47</td>\n",
       "      <td>630.59</td>\n",
       "      <td>-0.36</td>\n",
       "      <td>60</td>\n",
       "      <td>0.0359</td>\n",
       "      <td>Toyota Sienna</td>\n",
       "    </tr>\n",
       "    <tr>\n",
       "      <th>1.91</th>\n",
       "      <td>793.82</td>\n",
       "      <td>796.01</td>\n",
       "      <td>794.10</td>\n",
       "      <td>-0.28</td>\n",
       "      <td>60</td>\n",
       "      <td>0.0290</td>\n",
       "      <td>VW Golf R</td>\n",
       "    </tr>\n",
       "    <tr>\n",
       "      <th>2.06</th>\n",
       "      <td>634.43</td>\n",
       "      <td>636.76</td>\n",
       "      <td>634.70</td>\n",
       "      <td>-0.27</td>\n",
       "      <td>36</td>\n",
       "      <td>0.0390</td>\n",
       "      <td>Toyota Corolla</td>\n",
       "    </tr>\n",
       "  </tbody>\n",
       "</table>\n",
       "</div>"
      ],
      "text/plain": [
       "               starting_balance  repayment  principal_paid  new_balance  term  \\\n",
       "interest_paid                                                                   \n",
       "1.28                     395.41     396.82          395.54        -0.13    60   \n",
       "1.57                     485.02     486.74          485.17        -0.15    48   \n",
       "1.88                     630.23     632.47          630.59        -0.36    60   \n",
       "1.91                     793.82     796.01          794.10        -0.28    60   \n",
       "2.06                     634.43     636.76          634.70        -0.27    36   \n",
       "\n",
       "               interest_rate        car_type  \n",
       "interest_paid                                 \n",
       "1.28                  0.0390  Toyota Carolla  \n",
       "1.57                  0.0390  Toyota Carolla  \n",
       "1.88                  0.0359   Toyota Sienna  \n",
       "1.91                  0.0290       VW Golf R  \n",
       "2.06                  0.0390  Toyota Corolla  "
      ]
     },
     "execution_count": 490,
     "metadata": {},
     "output_type": "execute_result"
    }
   ],
   "source": [
    "# What is the lowest interest rate?\n",
    "interest_first= df.groupby('interest_paid')\n",
    "interest_first.first().head()"
   ]
  }
 ],
 "metadata": {
  "kernelspec": {
   "display_name": "anaconda-ai-2023-11",
   "language": "python",
   "name": "conda-env-anaconda-ai-2023-11-py"
  },
  "language_info": {
   "codemirror_mode": {
    "name": "ipython",
    "version": 3
   },
   "file_extension": ".py",
   "mimetype": "text/x-python",
   "name": "python",
   "nbconvert_exporter": "python",
   "pygments_lexer": "ipython3",
   "version": "3.10.13"
  }
 },
 "nbformat": 4,
 "nbformat_minor": 5
}
